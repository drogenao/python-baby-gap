{
  "cells": [
    {
      "cell_type": "markdown",
      "metadata": {
        "id": "view-in-github",
        "colab_type": "text"
      },
      "source": [
        "<a href=\"https://colab.research.google.com/github/drogenao/python-baby-gap/blob/main/python-intro.ipynb\" target=\"_parent\"><img src=\"https://colab.research.google.com/assets/colab-badge.svg\" alt=\"Open In Colab\"/></a>"
      ]
    },
    {
      "cell_type": "code",
      "source": [],
      "metadata": {
        "id": "baA5bFO45Vea"
      },
      "execution_count": null,
      "outputs": []
    },
    {
      "cell_type": "markdown",
      "source": [
        "This is my first jupyter colab notebook.\n"
      ],
      "metadata": {
        "id": "49z6ihP75bXX"
      }
    },
    {
      "cell_type": "code",
      "source": [
        "age = 36\n",
        "name = \"Naomi\""
      ],
      "metadata": {
        "id": "AIbj46Sj5hJj"
      },
      "execution_count": 1,
      "outputs": []
    },
    {
      "cell_type": "code",
      "source": [
        "print(name, \"is\", age, \"years old\",'.')"
      ],
      "metadata": {
        "id": "5dv1coNW5rrQ",
        "outputId": "4c69b18e-d1a7-4600-c14e-d9166dc2a304",
        "colab": {
          "base_uri": "https://localhost:8080/"
        }
      },
      "execution_count": 29,
      "outputs": [
        {
          "output_type": "stream",
          "name": "stdout",
          "text": [
            "NaomiMae is 36 years old .\n"
          ]
        }
      ]
    },
    {
      "cell_type": "code",
      "source": [
        "last_name = \"Droge\"\n",
        "print(last_name)"
      ],
      "metadata": {
        "id": "276UmER353kI",
        "outputId": "b8955c3c-bbe0-4a24-e068-0165e63c32c8",
        "colab": {
          "base_uri": "https://localhost:8080/"
        }
      },
      "execution_count": 5,
      "outputs": [
        {
          "output_type": "stream",
          "name": "stdout",
          "text": [
            "Droge\n"
          ]
        }
      ]
    },
    {
      "cell_type": "code",
      "source": [
        "print(name, \"will be\", age+10, \"in ten years.\")"
      ],
      "metadata": {
        "id": "QhIsvwzX7Erc",
        "outputId": "09f0d110-03f7-44cf-f66f-46fe18389fc1",
        "colab": {
          "base_uri": "https://localhost:8080/"
        }
      },
      "execution_count": 6,
      "outputs": [
        {
          "output_type": "stream",
          "name": "stdout",
          "text": [
            "Naomi will be 46 in ten years.\n"
          ]
        }
      ]
    },
    {
      "cell_type": "code",
      "source": [
        "print(name[0])"
      ],
      "metadata": {
        "id": "uJoqRfsc8GO2",
        "outputId": "14c5b7b0-7da3-4e4c-a92d-8d004b373041",
        "colab": {
          "base_uri": "https://localhost:8080/"
        }
      },
      "execution_count": 9,
      "outputs": [
        {
          "output_type": "stream",
          "name": "stdout",
          "text": [
            "N\n"
          ]
        }
      ]
    },
    {
      "cell_type": "code",
      "source": [
        "name_substring = name[0:3]\n",
        "print(name_substring)"
      ],
      "metadata": {
        "id": "7PcvjIMb8Uxr",
        "outputId": "4caf4873-748d-4a0b-fe22-085bff76ae59",
        "colab": {
          "base_uri": "https://localhost:8080/"
        }
      },
      "execution_count": 17,
      "outputs": [
        {
          "output_type": "stream",
          "name": "stdout",
          "text": [
            "Nao\n"
          ]
        }
      ]
    },
    {
      "cell_type": "code",
      "source": [
        "length_name = len(name)"
      ],
      "metadata": {
        "id": "cqXdqo1K9TOh"
      },
      "execution_count": 21,
      "outputs": []
    },
    {
      "cell_type": "code",
      "source": [
        "print(length_name + 4)"
      ],
      "metadata": {
        "id": "Ub4aq2Kk94nF",
        "outputId": "bce3f9db-15e8-4809-f222-65e319d76c2c",
        "colab": {
          "base_uri": "https://localhost:8080/"
        }
      },
      "execution_count": 23,
      "outputs": [
        {
          "output_type": "stream",
          "name": "stdout",
          "text": [
            "9\n"
          ]
        }
      ]
    },
    {
      "cell_type": "code",
      "source": [
        "Hello = 5"
      ],
      "metadata": {
        "id": "tUADzF5Z-UWh"
      },
      "execution_count": 24,
      "outputs": []
    },
    {
      "cell_type": "code",
      "source": [
        "print (hello)"
      ],
      "metadata": {
        "id": "KK7icLAp-v0Q",
        "outputId": "a9a72e44-90ce-4e4a-bc5b-a2d9ba5a5904",
        "colab": {
          "base_uri": "https://localhost:8080/",
          "height": 141
        }
      },
      "execution_count": 25,
      "outputs": [
        {
          "output_type": "error",
          "ename": "NameError",
          "evalue": "name 'hello' is not defined",
          "traceback": [
            "\u001b[0;31m---------------------------------------------------------------------------\u001b[0m",
            "\u001b[0;31mNameError\u001b[0m                                 Traceback (most recent call last)",
            "\u001b[0;32m<ipython-input-25-fcd6f0176134>\u001b[0m in \u001b[0;36m<cell line: 0>\u001b[0;34m()\u001b[0m\n\u001b[0;32m----> 1\u001b[0;31m \u001b[0mprint\u001b[0m \u001b[0;34m(\u001b[0m\u001b[0mhello\u001b[0m\u001b[0;34m)\u001b[0m\u001b[0;34m\u001b[0m\u001b[0;34m\u001b[0m\u001b[0m\n\u001b[0m",
            "\u001b[0;31mNameError\u001b[0m: name 'hello' is not defined"
          ]
        }
      ]
    },
    {
      "cell_type": "code",
      "source": [
        "print (Hello)"
      ],
      "metadata": {
        "id": "XTbhZUTD-ySG",
        "outputId": "b33afc3e-15bb-4602-d2d7-5c800b1367f8",
        "colab": {
          "base_uri": "https://localhost:8080/"
        }
      },
      "execution_count": 26,
      "outputs": [
        {
          "output_type": "stream",
          "name": "stdout",
          "text": [
            "5\n"
          ]
        }
      ]
    },
    {
      "cell_type": "code",
      "source": [
        "name = \"NaomiMae\""
      ],
      "metadata": {
        "id": "TCUk8Sg8-2uG"
      },
      "execution_count": 27,
      "outputs": []
    },
    {
      "cell_type": "code",
      "source": [
        "print(name)"
      ],
      "metadata": {
        "id": "f2f0qjih_SGJ",
        "outputId": "71142f14-e22b-4112-fe8b-830a6d285ffe",
        "colab": {
          "base_uri": "https://localhost:8080/"
        }
      },
      "execution_count": 28,
      "outputs": [
        {
          "output_type": "stream",
          "name": "stdout",
          "text": [
            "NaomiMae\n"
          ]
        }
      ]
    },
    {
      "cell_type": "code",
      "source": [
        "type(name)"
      ],
      "metadata": {
        "id": "-kvWa7qS_iZa",
        "outputId": "b8aeb60f-e23c-49c3-edff-3e4e7c714b78",
        "colab": {
          "base_uri": "https://localhost:8080/"
        }
      },
      "execution_count": 30,
      "outputs": [
        {
          "output_type": "execute_result",
          "data": {
            "text/plain": [
              "str"
            ]
          },
          "metadata": {},
          "execution_count": 30
        }
      ]
    },
    {
      "cell_type": "code",
      "source": [
        "type(age)"
      ],
      "metadata": {
        "id": "GDM_E4vWAR--",
        "outputId": "89447762-9b72-4bbf-8d12-cdbc7a05cae1",
        "colab": {
          "base_uri": "https://localhost:8080/"
        }
      },
      "execution_count": 31,
      "outputs": [
        {
          "output_type": "execute_result",
          "data": {
            "text/plain": [
              "int"
            ]
          },
          "metadata": {},
          "execution_count": 31
        }
      ]
    },
    {
      "cell_type": "code",
      "source": [
        "new_age = 99\n",
        "print(new_age + 15)"
      ],
      "metadata": {
        "id": "O3_Gy4-zAWQ3",
        "outputId": "822b8ff7-8cc4-4d2e-b3b7-67c00de1bdf4",
        "colab": {
          "base_uri": "https://localhost:8080/"
        }
      },
      "execution_count": 33,
      "outputs": [
        {
          "output_type": "stream",
          "name": "stdout",
          "text": [
            "114\n"
          ]
        }
      ]
    },
    {
      "cell_type": "code",
      "source": [
        "new_age = int(new_age)"
      ],
      "metadata": {
        "id": "IJYNDyULA3rc"
      },
      "execution_count": 34,
      "outputs": []
    },
    {
      "cell_type": "code",
      "source": [
        "new_age + 50"
      ],
      "metadata": {
        "id": "45BntXvOBcQL",
        "outputId": "ffc3e2d6-124c-4a95-df77-6ae62fcf7676",
        "colab": {
          "base_uri": "https://localhost:8080/"
        }
      },
      "execution_count": 35,
      "outputs": [
        {
          "output_type": "execute_result",
          "data": {
            "text/plain": [
              "149"
            ]
          },
          "metadata": {},
          "execution_count": 35
        }
      ]
    },
    {
      "cell_type": "code",
      "source": [
        "num = 5.0923"
      ],
      "metadata": {
        "id": "_UvqZGtVBrpB"
      },
      "execution_count": 36,
      "outputs": []
    },
    {
      "cell_type": "code",
      "source": [
        "type(num)"
      ],
      "metadata": {
        "id": "mNJpEB2zCZOA",
        "outputId": "1d471ee9-0c94-40f5-e47e-abac6070af7f",
        "colab": {
          "base_uri": "https://localhost:8080/"
        }
      },
      "execution_count": 37,
      "outputs": [
        {
          "output_type": "execute_result",
          "data": {
            "text/plain": [
              "float"
            ]
          },
          "metadata": {},
          "execution_count": 37
        }
      ]
    },
    {
      "cell_type": "code",
      "source": [
        "num -0.84952"
      ],
      "metadata": {
        "id": "clniL-IyCeGz",
        "outputId": "9284ab44-3d6d-4ac3-d93b-fd63d0a967ec",
        "colab": {
          "base_uri": "https://localhost:8080/"
        }
      },
      "execution_count": 38,
      "outputs": [
        {
          "output_type": "execute_result",
          "data": {
            "text/plain": [
              "4.24278"
            ]
          },
          "metadata": {},
          "execution_count": 38
        }
      ]
    },
    {
      "cell_type": "code",
      "source": [
        "num * 2398"
      ],
      "metadata": {
        "id": "gailRqxdCmAl",
        "outputId": "b4a03916-6978-4246-af00-423ff8dfc778",
        "colab": {
          "base_uri": "https://localhost:8080/"
        }
      },
      "execution_count": 39,
      "outputs": [
        {
          "output_type": "execute_result",
          "data": {
            "text/plain": [
              "12211.3354"
            ]
          },
          "metadata": {},
          "execution_count": 39
        }
      ]
    },
    {
      "cell_type": "code",
      "source": [
        "num / 0"
      ],
      "metadata": {
        "id": "CcaFrIvLCsPd",
        "outputId": "cc5551d5-146b-4190-d08f-a22349886817",
        "colab": {
          "base_uri": "https://localhost:8080/",
          "height": 141
        }
      },
      "execution_count": 40,
      "outputs": [
        {
          "output_type": "error",
          "ename": "ZeroDivisionError",
          "evalue": "float division by zero",
          "traceback": [
            "\u001b[0;31m---------------------------------------------------------------------------\u001b[0m",
            "\u001b[0;31mZeroDivisionError\u001b[0m                         Traceback (most recent call last)",
            "\u001b[0;32m<ipython-input-40-9151cb156f25>\u001b[0m in \u001b[0;36m<cell line: 0>\u001b[0;34m()\u001b[0m\n\u001b[0;32m----> 1\u001b[0;31m \u001b[0mnum\u001b[0m \u001b[0;34m/\u001b[0m \u001b[0;36m0\u001b[0m\u001b[0;34m\u001b[0m\u001b[0;34m\u001b[0m\u001b[0m\n\u001b[0m",
            "\u001b[0;31mZeroDivisionError\u001b[0m: float division by zero"
          ]
        }
      ]
    },
    {
      "cell_type": "code",
      "source": [
        "num / 12"
      ],
      "metadata": {
        "id": "MRtLMkQ9CzUO",
        "outputId": "5b105621-15ef-4dab-f45b-a07902c36615",
        "colab": {
          "base_uri": "https://localhost:8080/"
        }
      },
      "execution_count": 41,
      "outputs": [
        {
          "output_type": "execute_result",
          "data": {
            "text/plain": [
              "0.42435833333333334"
            ]
          },
          "metadata": {},
          "execution_count": 41
        }
      ]
    },
    {
      "cell_type": "code",
      "source": [
        "integer = 4\n",
        "print(integer/3)"
      ],
      "metadata": {
        "id": "v-bCIqR6C2-5",
        "outputId": "917e7dce-c509-48fd-a37d-04723b01aef0",
        "colab": {
          "base_uri": "https://localhost:8080/"
        }
      },
      "execution_count": 42,
      "outputs": [
        {
          "output_type": "stream",
          "name": "stdout",
          "text": [
            "1.3333333333333333\n"
          ]
        }
      ]
    },
    {
      "cell_type": "code",
      "source": [
        "type(integer/3)"
      ],
      "metadata": {
        "id": "J6l5GuLrDBHY",
        "outputId": "43174071-f3b0-4fd1-e25f-bb97caf12767",
        "colab": {
          "base_uri": "https://localhost:8080/"
        }
      },
      "execution_count": 43,
      "outputs": [
        {
          "output_type": "execute_result",
          "data": {
            "text/plain": [
              "float"
            ]
          },
          "metadata": {},
          "execution_count": 43
        }
      ]
    },
    {
      "cell_type": "code",
      "source": [
        "name * 2"
      ],
      "metadata": {
        "id": "TVpINL0bDKsw",
        "outputId": "2d43d029-721e-4c0b-f869-6c4dfd899474",
        "colab": {
          "base_uri": "https://localhost:8080/",
          "height": 35
        }
      },
      "execution_count": 44,
      "outputs": [
        {
          "output_type": "execute_result",
          "data": {
            "text/plain": [
              "'NaomiMaeNaomiMae'"
            ],
            "application/vnd.google.colaboratory.intrinsic+json": {
              "type": "string"
            }
          },
          "metadata": {},
          "execution_count": 44
        }
      ]
    },
    {
      "cell_type": "code",
      "source": [
        "name + \".\""
      ],
      "metadata": {
        "id": "2RH3ZWksEKMp",
        "outputId": "24920941-9819-4708-e585-7c0170ab711c",
        "colab": {
          "base_uri": "https://localhost:8080/",
          "height": 35
        }
      },
      "execution_count": 45,
      "outputs": [
        {
          "output_type": "execute_result",
          "data": {
            "text/plain": [
              "'NaomiMae.'"
            ],
            "application/vnd.google.colaboratory.intrinsic+json": {
              "type": "string"
            }
          },
          "metadata": {},
          "execution_count": 45
        }
      ]
    },
    {
      "cell_type": "code",
      "source": [
        "#This sentence won't be executed by Python because it is preceded by a hash-tag or hash-mark\n"
      ],
      "metadata": {
        "id": "SfBQmQrVENzc"
      },
      "execution_count": null,
      "outputs": []
    }
  ],
  "metadata": {
    "colab": {
      "provenance": [],
      "include_colab_link": true
    },
    "language_info": {
      "name": "python"
    },
    "kernelspec": {
      "name": "python3",
      "display_name": "Python 3"
    }
  },
  "nbformat": 4,
  "nbformat_minor": 0
}